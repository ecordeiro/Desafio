{
 "cells": [
  {
   "cell_type": "markdown",
   "source": [
    "O gerenciamento do relacionamento com os clientes tem como um dos seus objetivos\r\n",
    "centrais aumentar o número de clientes ativos da empresa - e a retenção desses clientes é crítica\r\n",
    "para seu sucesso. Sendo assim, um time foi mobilizado para garantir o desenvolvimento da\r\n",
    "estratégia de retenção de clientes e, sabendo do seu potencial analítico, você foi convocado para\r\n",
    "esse desafio.\r\n",
    "Em busca de uma maior compreensão das particularidades do negócio e de melhor\r\n",
    "entendimento do cenário do churn, vocês optaram por realizar uma análise exploratória dos\r\n",
    "dados. Em um primeiro momento algumas hipóteses foram levantadas visando direcionar esse\r\n",
    "desenvolvimento inicial e, considerando a base de dados disponibilizada e um período de churn\r\n",
    "de 1 ano, foi requisitado a você a validação da seguinte hipótese:\r\n",
    "“O churn de novos clientes é maior do que o churn de clientes ativos”"
   ],
   "metadata": {}
  },
  {
   "cell_type": "code",
   "execution_count": 3,
   "source": [
    "import pandas as pd\r\n",
    "import numpy as np"
   ],
   "outputs": [],
   "metadata": {}
  },
  {
   "cell_type": "markdown",
   "source": [],
   "metadata": {}
  },
  {
   "cell_type": "code",
   "execution_count": 9,
   "source": [
    "df = pd.read_csv(r'base_dados\\base_teste.csv')"
   ],
   "outputs": [],
   "metadata": {}
  },
  {
   "cell_type": "code",
   "execution_count": 10,
   "source": [
    "df.head()"
   ],
   "outputs": [
    {
     "output_type": "execute_result",
     "data": {
      "text/html": [
       "<div>\n",
       "<style scoped>\n",
       "    .dataframe tbody tr th:only-of-type {\n",
       "        vertical-align: middle;\n",
       "    }\n",
       "\n",
       "    .dataframe tbody tr th {\n",
       "        vertical-align: top;\n",
       "    }\n",
       "\n",
       "    .dataframe thead th {\n",
       "        text-align: right;\n",
       "    }\n",
       "</style>\n",
       "<table border=\"1\" class=\"dataframe\">\n",
       "  <thead>\n",
       "    <tr style=\"text-align: right;\">\n",
       "      <th></th>\n",
       "      <th>Unnamed: 0</th>\n",
       "      <th>cidade_retirada</th>\n",
       "      <th>cidade_devolucao</th>\n",
       "      <th>cd_contrato</th>\n",
       "      <th>transporte_locado</th>\n",
       "      <th>data_abertura_contrato</th>\n",
       "      <th>qtd_diarias</th>\n",
       "      <th>data_fechamento_contrato</th>\n",
       "      <th>qtd_hora_extra</th>\n",
       "      <th>cd_cliente</th>\n",
       "    </tr>\n",
       "  </thead>\n",
       "  <tbody>\n",
       "    <tr>\n",
       "      <th>0</th>\n",
       "      <td>0</td>\n",
       "      <td>Hogsmeade</td>\n",
       "      <td>Hogsmeade</td>\n",
       "      <td>HGM048798</td>\n",
       "      <td>Portal</td>\n",
       "      <td>2015-01-26 05:58:37</td>\n",
       "      <td>1</td>\n",
       "      <td>2015-01-27 05:58:37</td>\n",
       "      <td>0</td>\n",
       "      <td>1</td>\n",
       "    </tr>\n",
       "    <tr>\n",
       "      <th>1</th>\n",
       "      <td>1</td>\n",
       "      <td>Springfield</td>\n",
       "      <td>Springfield</td>\n",
       "      <td>SPF030834</td>\n",
       "      <td>Ônibus Escolar</td>\n",
       "      <td>2015-02-05 15:10:19</td>\n",
       "      <td>1</td>\n",
       "      <td>2015-02-06 15:10:19</td>\n",
       "      <td>0</td>\n",
       "      <td>1</td>\n",
       "    </tr>\n",
       "    <tr>\n",
       "      <th>2</th>\n",
       "      <td>2</td>\n",
       "      <td>Porto Real</td>\n",
       "      <td>Porto Real</td>\n",
       "      <td>PRL017782</td>\n",
       "      <td>Barco</td>\n",
       "      <td>2015-05-04 20:49:56</td>\n",
       "      <td>1</td>\n",
       "      <td>2015-05-05 20:49:56</td>\n",
       "      <td>0</td>\n",
       "      <td>1</td>\n",
       "    </tr>\n",
       "    <tr>\n",
       "      <th>3</th>\n",
       "      <td>3</td>\n",
       "      <td>Basin City</td>\n",
       "      <td>Basin City</td>\n",
       "      <td>SIN042621</td>\n",
       "      <td>1960 Corvette</td>\n",
       "      <td>2015-05-07 07:34:04</td>\n",
       "      <td>1</td>\n",
       "      <td>2015-05-08 07:34:04</td>\n",
       "      <td>0</td>\n",
       "      <td>1</td>\n",
       "    </tr>\n",
       "    <tr>\n",
       "      <th>4</th>\n",
       "      <td>4</td>\n",
       "      <td>Godric's Hollow</td>\n",
       "      <td>Godric's Hollow</td>\n",
       "      <td>GDH044954</td>\n",
       "      <td>Testralio</td>\n",
       "      <td>2015-08-01 11:14:48</td>\n",
       "      <td>2</td>\n",
       "      <td>2015-08-03 12:14:48</td>\n",
       "      <td>1</td>\n",
       "      <td>1</td>\n",
       "    </tr>\n",
       "  </tbody>\n",
       "</table>\n",
       "</div>"
      ],
      "text/plain": [
       "   Unnamed: 0  cidade_retirada cidade_devolucao cd_contrato transporte_locado  \\\n",
       "0           0        Hogsmeade        Hogsmeade   HGM048798            Portal   \n",
       "1           1      Springfield      Springfield   SPF030834    Ônibus Escolar   \n",
       "2           2       Porto Real       Porto Real   PRL017782             Barco   \n",
       "3           3       Basin City       Basin City   SIN042621     1960 Corvette   \n",
       "4           4  Godric's Hollow  Godric's Hollow   GDH044954         Testralio   \n",
       "\n",
       "  data_abertura_contrato  qtd_diarias data_fechamento_contrato  \\\n",
       "0    2015-01-26 05:58:37            1      2015-01-27 05:58:37   \n",
       "1    2015-02-05 15:10:19            1      2015-02-06 15:10:19   \n",
       "2    2015-05-04 20:49:56            1      2015-05-05 20:49:56   \n",
       "3    2015-05-07 07:34:04            1      2015-05-08 07:34:04   \n",
       "4    2015-08-01 11:14:48            2      2015-08-03 12:14:48   \n",
       "\n",
       "   qtd_hora_extra  cd_cliente  \n",
       "0               0           1  \n",
       "1               0           1  \n",
       "2               0           1  \n",
       "3               0           1  \n",
       "4               1           1  "
      ]
     },
     "metadata": {},
     "execution_count": 10
    }
   ],
   "metadata": {}
  },
  {
   "cell_type": "code",
   "execution_count": 11,
   "source": [
    "df.dtypes"
   ],
   "outputs": [
    {
     "output_type": "execute_result",
     "data": {
      "text/plain": [
       "Unnamed: 0                   int64\n",
       "cidade_retirada             object\n",
       "cidade_devolucao            object\n",
       "cd_contrato                 object\n",
       "transporte_locado           object\n",
       "data_abertura_contrato      object\n",
       "qtd_diarias                  int64\n",
       "data_fechamento_contrato    object\n",
       "qtd_hora_extra               int64\n",
       "cd_cliente                   int64\n",
       "dtype: object"
      ]
     },
     "metadata": {},
     "execution_count": 11
    }
   ],
   "metadata": {}
  },
  {
   "cell_type": "code",
   "execution_count": 13,
   "source": [
    "df.cd_cliente.value_counts()"
   ],
   "outputs": [
    {
     "output_type": "execute_result",
     "data": {
      "text/plain": [
       "112       66\n",
       "379       65\n",
       "191       65\n",
       "92        64\n",
       "492       63\n",
       "          ..\n",
       "38744      1\n",
       "38750      1\n",
       "38751      1\n",
       "38753      1\n",
       "123883     1\n",
       "Name: cd_cliente, Length: 44842, dtype: int64"
      ]
     },
     "metadata": {},
     "execution_count": 13
    }
   ],
   "metadata": {}
  },
  {
   "cell_type": "code",
   "execution_count": 15,
   "source": [
    "df.qtd_diarias.value_counts()"
   ],
   "outputs": [
    {
     "output_type": "execute_result",
     "data": {
      "text/plain": [
       "1     193988\n",
       "2     116526\n",
       "3      69307\n",
       "4      41222\n",
       "5      24266\n",
       "6      14489\n",
       "7       8559\n",
       "8       5138\n",
       "9       3095\n",
       "10      1751\n",
       "11      1045\n",
       "12       584\n",
       "13       347\n",
       "14       213\n",
       "15       134\n",
       "16        87\n",
       "17        44\n",
       "18        31\n",
       "19        17\n",
       "22         6\n",
       "21         6\n",
       "20         5\n",
       "26         1\n",
       "24         1\n",
       "23         1\n",
       "Name: qtd_diarias, dtype: int64"
      ]
     },
     "metadata": {},
     "execution_count": 15
    }
   ],
   "metadata": {}
  }
 ],
 "metadata": {
  "orig_nbformat": 4,
  "language_info": {
   "name": "python",
   "version": "3.8.11",
   "mimetype": "text/x-python",
   "codemirror_mode": {
    "name": "ipython",
    "version": 3
   },
   "pygments_lexer": "ipython3",
   "nbconvert_exporter": "python",
   "file_extension": ".py"
  },
  "kernelspec": {
   "name": "python3",
   "display_name": "Python 3.8.11 64-bit ('Pessoal': conda)"
  },
  "interpreter": {
   "hash": "f41f0d0b4aea88f35dcbffee07762869df68294921dce1bd85fe6861601bdc54"
  }
 },
 "nbformat": 4,
 "nbformat_minor": 2
}